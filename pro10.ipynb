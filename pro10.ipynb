{
 "cells": [
  {
   "cell_type": "markdown",
   "id": "c036ced8",
   "metadata": {},
   "source": [
    "# 1. Write a Python program to find sum of elements in list?"
   ]
  },
  {
   "cell_type": "code",
   "execution_count": 7,
   "id": "40f6ecba",
   "metadata": {},
   "outputs": [
    {
     "name": "stdout",
     "output_type": "stream",
     "text": [
      "enter the number of element 4\n",
      "enter the elements 65\n",
      "enter the elements 78\n",
      "enter the elements 98\n",
      "enter the elements 43\n",
      "[65.0, 78.0, 98.0, 43.0]\n",
      "the sum of all elements are:  284.0\n"
     ]
    }
   ],
   "source": [
    "l1=[]\n",
    "sum=0\n",
    "n=int(input('enter the number of element '))\n",
    "for i in range(n):\n",
    "    ele=float(input('enter the elements '))\n",
    "    l1.append(ele)\n",
    "print(l1)\n",
    "for i in range(n):\n",
    "    sum =sum+l1[i]\n",
    "print('the sum of all elements are: ',sum)\n",
    "\n",
    "    "
   ]
  },
  {
   "cell_type": "markdown",
   "id": "007570e9",
   "metadata": {},
   "source": [
    "# 2. Write a Python program to Multiply all numbers in the list?"
   ]
  },
  {
   "cell_type": "code",
   "execution_count": 8,
   "id": "3d40a190",
   "metadata": {},
   "outputs": [
    {
     "name": "stdout",
     "output_type": "stream",
     "text": [
      "enter the number of element 4\n",
      "enter the elements 56\n",
      "enter the elements 44\n",
      "enter the elements 33\n",
      "enter the elements 2\n",
      "[56.0, 44.0, 33.0, 2.0]\n",
      "the multiplication of all number is:  162624.0\n"
     ]
    }
   ],
   "source": [
    "l2=[]\n",
    "m=1\n",
    "n=int(input('enter the number of element '))\n",
    "for i in range(n):\n",
    "    ele=float(input('enter the elements '))\n",
    "    l2.append(ele)\n",
    "print(l2)\n",
    "for i in range(n):\n",
    "    m=m*l2[i]\n",
    "print('the multiplication of all number is: ',m)"
   ]
  },
  {
   "cell_type": "markdown",
   "id": "962bedfa",
   "metadata": {},
   "source": [
    "# 3. Write a Python program to find smallest number in a list?"
   ]
  },
  {
   "cell_type": "code",
   "execution_count": 9,
   "id": "88589619",
   "metadata": {},
   "outputs": [
    {
     "name": "stdout",
     "output_type": "stream",
     "text": [
      "enter the number of element 4\n",
      "enter the elements 32\n",
      "enter the elements 12\n",
      "enter the elements 34\n",
      "enter the elements 56\n",
      "[32.0, 12.0, 34.0, 56.0]\n",
      "the smallest number in list :  12.0\n"
     ]
    }
   ],
   "source": [
    "l3=[]\n",
    "n=int(input('enter the number of element '))\n",
    "for i in range(n):\n",
    "    ele=float(input('enter the elements '))\n",
    "    l3.append(ele)\n",
    "print(l3)\n",
    "print('the smallest number in list : ',min(l3))\n",
    "\n",
    "        "
   ]
  },
  {
   "cell_type": "markdown",
   "id": "07ffedd5",
   "metadata": {},
   "source": [
    "# 4. Write a Python program to find largest number in a list?"
   ]
  },
  {
   "cell_type": "code",
   "execution_count": 6,
   "id": "ceab23e5",
   "metadata": {},
   "outputs": [
    {
     "name": "stdout",
     "output_type": "stream",
     "text": [
      "enter the number of element 4\n",
      "enter the elements 99\n",
      "enter the elements 09\n",
      "enter the elements 78\n",
      "enter the elements 98\n",
      "[99.0, 9.0, 78.0, 98.0]\n",
      "the largest number in list :  99.0\n"
     ]
    }
   ],
   "source": [
    "l4=[]\n",
    "n=int(input('enter the number of element '))\n",
    "for i in range(n):\n",
    "    ele=float(input('enter the elements '))\n",
    "    l4.append(ele)\n",
    "print(l4)\n",
    "print('the largest number in list : ',max(l4))\n"
   ]
  },
  {
   "cell_type": "markdown",
   "id": "e0d2a035",
   "metadata": {},
   "source": [
    "# 5. Write a Python program to find second largest number in a list?\n"
   ]
  },
  {
   "cell_type": "code",
   "execution_count": 18,
   "id": "c1ce36f1",
   "metadata": {},
   "outputs": [
    {
     "name": "stdout",
     "output_type": "stream",
     "text": [
      "enter the number of element 4\n",
      "enter the elements 56\n",
      "enter the elements 54\n",
      "enter the elements 87\n",
      "enter the elements 32\n",
      "[56.0, 54.0, 87.0, 32.0]\n",
      " second largest number in a list:  56.0\n"
     ]
    }
   ],
   "source": [
    "l5=[]\n",
    "n=int(input('enter the number of element '))\n",
    "for i in range(n):\n",
    "    ele=float(input('enter the elements '))\n",
    "    l5.append(ele)\n",
    "print(l5)\n",
    "l5.sort()\n",
    "print(' second largest number in a list: ',l5[n-2])\n",
    "\n",
    "\n",
    "\n",
    "\n",
    "        "
   ]
  },
  {
   "cell_type": "markdown",
   "id": "dccd62c3",
   "metadata": {},
   "source": [
    "# 6. Write a Python program to find N largest elements from a list?"
   ]
  },
  {
   "cell_type": "code",
   "execution_count": 5,
   "id": "0fa6afc8",
   "metadata": {},
   "outputs": [
    {
     "name": "stdout",
     "output_type": "stream",
     "text": [
      "enter the number of element 4\n",
      "enter the elements 56\n",
      "enter the elements 79\n",
      "enter the elements 99\n",
      "enter the elements 22\n",
      "enter how many largest elements you want to print in list: 2\n",
      "[99.0, 79.0]\n"
     ]
    }
   ],
   "source": [
    "l6=[]\n",
    "n=int(input('enter the number of element '))\n",
    "for i in range(n):\n",
    "    ele=float(input('enter the elements '))\n",
    "    l6.append(ele)\n",
    "l6.sort(reverse=True)\n",
    "N=int(input('enter how many largest elements you want to print in list: '))\n",
    "print(l6[:N])"
   ]
  },
  {
   "cell_type": "markdown",
   "id": "1e98d1f6",
   "metadata": {},
   "source": [
    "# 7. Write a Python program to print even numbers in a list?"
   ]
  },
  {
   "cell_type": "code",
   "execution_count": 3,
   "id": "2c01a419",
   "metadata": {
    "scrolled": true
   },
   "outputs": [
    {
     "name": "stdout",
     "output_type": "stream",
     "text": [
      "enter the number of element 4\n",
      "enter the elements 12\n",
      "enter the elements 45\n",
      "enter the elements 66\n",
      "enter the elements 89\n",
      "12.0\n",
      "66.0\n"
     ]
    }
   ],
   "source": [
    "l7=[]\n",
    "n=int(input('enter the number of element '))\n",
    "for i in range(n):\n",
    "    ele=float(input('enter the elements '))\n",
    "    l7.append(ele)\n",
    "for i in l7:\n",
    "    if i%2==0:\n",
    "        print(i)\n",
    "    "
   ]
  },
  {
   "cell_type": "markdown",
   "id": "2c57abf1",
   "metadata": {},
   "source": [
    "# 8. Write a Python program to print odd numbers in a List?"
   ]
  },
  {
   "cell_type": "code",
   "execution_count": 2,
   "id": "c4af55da",
   "metadata": {},
   "outputs": [
    {
     "name": "stdout",
     "output_type": "stream",
     "text": [
      "enter the number of element 4\n",
      "enter the elements 23\n",
      "enter the elements 43\n",
      "enter the elements 53\n",
      "enter the elements 12\n",
      "23.0\n",
      "43.0\n",
      "53.0\n"
     ]
    }
   ],
   "source": [
    "l8=[]\n",
    "n=int(input('enter the number of element '))\n",
    "for i in range(n):\n",
    "    ele=float(input('enter the elements '))\n",
    "    l8.append(ele)\n",
    "for i in l8:\n",
    "    if ((i%2)!=0):\n",
    "        print(i)\n",
    "    "
   ]
  },
  {
   "cell_type": "markdown",
   "id": "985d252c",
   "metadata": {},
   "source": [
    "# 9. Write a Python program to Remove empty List from List?"
   ]
  },
  {
   "cell_type": "code",
   "execution_count": 15,
   "id": "6053fc43",
   "metadata": {},
   "outputs": [
    {
     "name": "stdout",
     "output_type": "stream",
     "text": [
      "[4, 5, 76, [4, 5, 6]]\n"
     ]
    }
   ],
   "source": [
    "l9=[4,5,[],76,[4,5,6],[]]\n",
    "l9=[i for i in l9 if i!=[]]\n",
    "print(l9)\n",
    "    "
   ]
  },
  {
   "cell_type": "markdown",
   "id": "76809f17",
   "metadata": {},
   "source": [
    "# 10. Write a Python program to Cloning or Copying a list?"
   ]
  },
  {
   "cell_type": "code",
   "execution_count": 19,
   "id": "3305499a",
   "metadata": {},
   "outputs": [
    {
     "name": "stdout",
     "output_type": "stream",
     "text": [
      "[4, 5, 6, 7]\n"
     ]
    }
   ],
   "source": [
    "import copy\n",
    "l10=[4,5,6,7]\n",
    "l11=copy.copy(l10)\n",
    "print(l11)"
   ]
  },
  {
   "cell_type": "markdown",
   "id": "540debfd",
   "metadata": {},
   "source": [
    "# 11. Write a Python program to Count occurrences of an element in a list?"
   ]
  },
  {
   "cell_type": "code",
   "execution_count": 1,
   "id": "772d5c82",
   "metadata": {},
   "outputs": [
    {
     "name": "stdout",
     "output_type": "stream",
     "text": [
      "enter the number of element 5\n",
      "enter the elements 2\n",
      "enter the elements 3\n",
      "enter the elements 2\n",
      "enter the elements 1\n",
      "enter the elements 2\n",
      "enter the number to check occurrences 2\n",
      "the number occur 3 times\n"
     ]
    }
   ],
   "source": [
    "l12=[]\n",
    "n=int(input('enter the number of element '))\n",
    "for i in range(n):\n",
    "    ele=float(input('enter the elements '))\n",
    "    l12.append(ele)\n",
    "m=float(input('enter the number to check occurrences '))\n",
    "count=l12.count(m)\n",
    "print(f'the number occur {count} times')"
   ]
  },
  {
   "cell_type": "code",
   "execution_count": null,
   "id": "b89e565a",
   "metadata": {},
   "outputs": [],
   "source": []
  }
 ],
 "metadata": {
  "kernelspec": {
   "display_name": "Python 3 (ipykernel)",
   "language": "python",
   "name": "python3"
  },
  "language_info": {
   "codemirror_mode": {
    "name": "ipython",
    "version": 3
   },
   "file_extension": ".py",
   "mimetype": "text/x-python",
   "name": "python",
   "nbconvert_exporter": "python",
   "pygments_lexer": "ipython3",
   "version": "3.9.12"
  }
 },
 "nbformat": 4,
 "nbformat_minor": 5
}
