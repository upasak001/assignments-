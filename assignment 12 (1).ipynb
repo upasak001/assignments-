{
 "cells": [
  {
   "cell_type": "markdown",
   "id": "48aa9d31",
   "metadata": {},
   "source": [
    "# 1. In what modes should the PdfFileReader() and PdfFileWriter() File objects will be opened?"
   ]
  },
  {
   "cell_type": "markdown",
   "id": "f9888af0",
   "metadata": {},
   "source": [
    "\n",
    "The PdfFileReader() and PdfFileWriter() functions are part of the PyPDF2 library, which is commonly used for working with PDF files in Python."
   ]
  },
  {
   "cell_type": "markdown",
   "id": "fd152a7c",
   "metadata": {},
   "source": [
    "# 2. From a PdfFileReader object, how do you get a Page object for page 5?"
   ]
  },
  {
   "cell_type": "markdown",
   "id": "31e75116",
   "metadata": {},
   "source": [
    "To get a Page object for a specific page from a PdfFileReader object in PyPDF2, you can use the getPage() method and provide the page index as an argument. Note that the page index starts from 0."
   ]
  },
  {
   "cell_type": "code",
   "execution_count": null,
   "id": "8f234e74",
   "metadata": {},
   "outputs": [],
   "source": [
    "from PyPDF2 import PdfFileReader\n",
    "with open('example.pdf', 'rb') as file:\n",
    "    pdf_reader = PdfFileReader(file)\n",
    "    page_number = 4\n",
    "    page = pdf_reader.getPage(page_number)\n"
   ]
  },
  {
   "cell_type": "markdown",
   "id": "814ad6ce",
   "metadata": {},
   "source": [
    "# 3. What PdfFileReader variable stores the number of pages in the PDF document?"
   ]
  },
  {
   "cell_type": "markdown",
   "id": "043ed4b1",
   "metadata": {},
   "source": [
    "The PdfFileReader variable that stores the number of pages in a PDF document is called numPages. It is an attribute of the PdfFileReader class in the PyPDF2 library."
   ]
  },
  {
   "cell_type": "code",
   "execution_count": null,
   "id": "0b03bbe9",
   "metadata": {},
   "outputs": [],
   "source": [
    "from PyPDF2 import PdfFileReader\n",
    "with open('example.pdf', 'rb') as file:\n",
    "    pdf_reader = PdfFileReader(file)\n",
    "    num_pages = pdf_reader.numPages\n",
    "    print(f\"The PDF document has {num_pages} pages.\")\n"
   ]
  },
  {
   "cell_type": "markdown",
   "id": "d062c82b",
   "metadata": {},
   "source": [
    "# 4. If a PdfFileReader object’s PDF is encrypted with the password swordfish, what must you do before you can obtain Page objects from it?"
   ]
  },
  {
   "cell_type": "markdown",
   "id": "e545a505",
   "metadata": {},
   "source": [
    "To decrypt the PDF, you can use the decrypt() method of the PdfFileReader object and provide the password as an argument.\n",
    "\n"
   ]
  },
  {
   "cell_type": "code",
   "execution_count": null,
   "id": "58f608bb",
   "metadata": {},
   "outputs": [],
   "source": [
    "from PyPDF2 import PdfFileReader\n",
    "with open('encrypted.pdf', 'rb') as file:\n",
    "    pdf_reader = PdfFileReader(file)\n",
    "    password = 'swordfish'\n",
    "    pdf_reader.decrypt(password)\n",
    "    page_number = 0\n",
    "    page = pdf_reader.getPage(page_number)\n",
    "\n"
   ]
  },
  {
   "cell_type": "markdown",
   "id": "ca134416",
   "metadata": {},
   "source": [
    "# 5. What methods do you use to rotate a page?"
   ]
  },
  {
   "cell_type": "markdown",
   "id": "704ffca8",
   "metadata": {},
   "source": [
    "\n",
    "To rotate a page in PyPDF2, you can use the rotateClockwise() or rotateCounterClockwise() methods of the Page object. These methods allow you to rotate a page by 90 degrees in the clockwise or counterclockwise direction, respectively."
   ]
  },
  {
   "cell_type": "markdown",
   "id": "317eb59e",
   "metadata": {},
   "source": [
    "# 6. What is the difference between a Run object and a Paragraph object?"
   ]
  },
  {
   "cell_type": "markdown",
   "id": "38ecd952",
   "metadata": {},
   "source": [
    "Paragraph Object: A paragraph represents a block of text that is typically grouped together and separated from other paragraphs. It is a higher-level construct that encapsulates one or more runs. A paragraph is often used to define a logical unit of content, such as a single idea or topic. Paragraphs can have various attributes, such as alignment, indentation, spacing, and styles.\n",
    "\n",
    "Run Object: A run represents a contiguous sequence of characters within a paragraph that share the same formatting properties. It is a lower-level construct that is used to define the appearance of a portion of text within a paragraph. A run can have specific font styles, sizes, colors, or other formatting attributes. Multiple runs within a paragraph can have different formatting, allowing for richly formatted and styled text."
   ]
  },
  {
   "cell_type": "markdown",
   "id": "679d34ef",
   "metadata": {},
   "source": [
    "# 7. How do you obtain a list of Paragraph objects for a Document object that’s stored in a variable named doc?"
   ]
  },
  {
   "cell_type": "markdown",
   "id": "b9c95369",
   "metadata": {},
   "source": [
    "To obtain a list of Paragraph objects for a Document object in python-docx that is stored in a variable named doc, you can access the paragraphs attribute of the Document object. The paragraphs attribute contains a list of all the paragraphs in the document.`"
   ]
  },
  {
   "cell_type": "code",
   "execution_count": null,
   "id": "a251303a",
   "metadata": {},
   "outputs": [],
   "source": [
    "from docx import Document\n",
    "doc = Document('example.docx')\n",
    "paragraphs = doc.paragraphs\n",
    "for paragraph in paragraphs:\n",
    "    print(paragraph.text)\n"
   ]
  },
  {
   "cell_type": "markdown",
   "id": "524fb2b4",
   "metadata": {},
   "source": [
    "# 8. What type of object has bold, underline, italic, strike, and outline variables?"
   ]
  },
  {
   "cell_type": "markdown",
   "id": "edceb702",
   "metadata": {},
   "source": [
    "The object that has the variables bold, underline, italic, strike, and outline is typically a Run object in the context of libraries like python-docx."
   ]
  },
  {
   "cell_type": "code",
   "execution_count": null,
   "id": "136b1846",
   "metadata": {},
   "outputs": [],
   "source": [
    "from docx import Document\n",
    "\n",
    "# Assume a Document object is already created and stored in the variable 'doc'\n",
    "\n",
    "# Accessing the first paragraph in the document\n",
    "paragraph = doc.paragraphs[0]\n",
    "\n",
    "# Accessing the first run in the paragraph\n",
    "run = paragraph.runs[0]\n",
    "\n",
    "# Applying various formatting to the run\n",
    "run.bold = True\n",
    "run.underline = True\n",
    "run.italic = True\n",
    "run.strike = True\n",
    "run.outline = True\n",
    "\n",
    "# Save the modified document\n",
    "doc.save('formatted_doc.docx')\n"
   ]
  },
  {
   "cell_type": "markdown",
   "id": "010bf10d",
   "metadata": {},
   "source": [
    "# 9. What is the difference between False, True, and None for the bold variable?"
   ]
  },
  {
   "cell_type": "markdown",
   "id": "aa18621b",
   "metadata": {},
   "source": [
    "False: When the bold variable is set to False, it means that the text is not bold. The font weight of the corresponding text will be normal or regular.\n",
    "\n",
    "True: When the bold variable is set to True, it means that the text is bold. The font weight of the corresponding text will be bold.\n",
    "\n",
    "None: When the bold variable is set to None or not explicitly set, it means that the text inherits the bold formatting from the underlying style or previous formatting. If no specific bold formatting is applied at the run level, the text will inherit the bold property based on the surrounding context or the document's default style."
   ]
  },
  {
   "cell_type": "markdown",
   "id": "f689b1c5",
   "metadata": {},
   "source": [
    "# 10. How do you create a Document object for a new Word document?"
   ]
  },
  {
   "cell_type": "markdown",
   "id": "b3da56af",
   "metadata": {},
   "source": [
    "To create a Document object for a new Word document using the python-docx library, you can simply call the Document() constructor without any arguments. This will create an empty Document object that you can then populate with content"
   ]
  },
  {
   "cell_type": "code",
   "execution_count": null,
   "id": "78401ad5",
   "metadata": {},
   "outputs": [],
   "source": [
    "from docx import Document\n",
    "\n",
    "# Create a new Document object\n",
    "doc = Document()\n",
    "\n",
    "# Add content to the document\n",
    "doc.add_paragraph(\"This is a paragraph.\")\n",
    "doc.add_heading(\"This is a heading\", level=1)\n",
    "# ... add more paragraphs, tables, images, etc.\n",
    "\n",
    "# Save the document to a file\n",
    "doc.save(\"new_document.docx\")\n"
   ]
  },
  {
   "cell_type": "markdown",
   "id": "c19ea954",
   "metadata": {},
   "source": [
    "# 11. How do you add a paragraph with the text &#39;Hello, there!&#39; to a Document object stored in a variable named doc?"
   ]
  },
  {
   "cell_type": "markdown",
   "id": "411c2f4c",
   "metadata": {},
   "source": [
    "\n",
    "To add a paragraph with the text 'Hello, there!' to a Document object stored in a variable named doc, you can use the add_paragraph() method of the Document object."
   ]
  },
  {
   "cell_type": "markdown",
   "id": "9d99ce43",
   "metadata": {},
   "source": [
    "# 12. What integers represent the levels of headings available in Word documents?"
   ]
  },
  {
   "cell_type": "markdown",
   "id": "71e21e79",
   "metadata": {},
   "source": [
    "`In Word documents, heading levels are typically represented by integers. The specific range of heading levels available can depend on the version of Word or the document template being used. However, in general, Word documents commonly use heading levels ranging from 1 to 9.\n",
    "\n",
    "Here's the mapping of heading level integers to their corresponding heading styles:\n",
    "\n",
    "Heading 1: Level 1\n",
    "Heading 2: Level 2\n",
    "Heading 3: Level 3\n",
    "Heading 4: Level 4\n",
    "Heading 5: Level 5\n",
    "Heading 6: Level 6\n",
    "Heading 7: Level 7\n",
    "Heading 8: Level 8\n",
    "Heading 9: Level 9\n",
    "These heading levels are often used to create a hierarchical structure in a document, where Heading 1 represents the highest level heading and Heading 9 represents the lowest level heading. The actual appearance and formatting of each heading level can vary depending on the Word document's style settings and the chosen template.\n",
    "\n",
    "When working with python-docx or similar libraries, you can specify the desired heading level as an integer when using methods like add_heading() to create headings in a Word document.\n",
    "\n",
    "\n"
   ]
  },
  {
   "cell_type": "code",
   "execution_count": null,
   "id": "72d7df71",
   "metadata": {},
   "outputs": [],
   "source": []
  }
 ],
 "metadata": {
  "kernelspec": {
   "display_name": "Python 3 (ipykernel)",
   "language": "python",
   "name": "python3"
  },
  "language_info": {
   "codemirror_mode": {
    "name": "ipython",
    "version": 3
   },
   "file_extension": ".py",
   "mimetype": "text/x-python",
   "name": "python",
   "nbconvert_exporter": "python",
   "pygments_lexer": "ipython3",
   "version": "3.9.12"
  }
 },
 "nbformat": 4,
 "nbformat_minor": 5
}
